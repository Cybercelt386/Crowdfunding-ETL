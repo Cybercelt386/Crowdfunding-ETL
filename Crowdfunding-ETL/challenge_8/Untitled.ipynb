{
 "cells": [
  {
   "cell_type": "code",
   "execution_count": null,
   "id": "ae40b07e-eb81-4e59-949a-66c1862fe88c",
   "metadata": {},
   "outputs": [],
   "source": [
    "#create a Function in place\n",
    "info_dump = backer_df['backer_info'].map(lambda x:json.loads(x)).to_list()\n",
    "pd.DataFrame(info_dump)"
   ]
  }
 ],
 "metadata": {
  "kernelspec": {
   "display_name": "Python 3 (ipykernel)",
   "language": "python",
   "name": "python3"
  },
  "language_info": {
   "codemirror_mode": {
    "name": "ipython",
    "version": 3
   },
   "file_extension": ".py",
   "mimetype": "text/x-python",
   "name": "python",
   "nbconvert_exporter": "python",
   "pygments_lexer": "ipython3",
   "version": "3.9.12"
  }
 },
 "nbformat": 4,
 "nbformat_minor": 5
}
